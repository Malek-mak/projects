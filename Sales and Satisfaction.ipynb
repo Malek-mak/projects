{
 "cells": [
  {
   "cell_type": "code",
   "execution_count": 137,
   "id": "d22e4c41-c754-4186-bb0c-b8096aaed043",
   "metadata": {},
   "outputs": [],
   "source": [
    "import pandas as pd\n",
    "import numpy as np\n",
    "import matplotlib.pyplot as plt\n",
    "import seaborn as sns\n",
    "from sklearn.model_selection import train_test_split\n",
    "from sklearn.linear_model import LogisticRegression\n",
    "from sklearn.svm import SVC\n",
    "from sklearn.preprocessing import MinMaxScaler\n",
    "from sklearn.neighbors import KNeighborsClassifier\n",
    "sns.set()\n",
    "%matplotlib inline"
   ]
  },
  {
   "cell_type": "code",
   "execution_count": 103,
   "id": "f5b34850-ae35-442b-8c68-d9750d3c280d",
   "metadata": {},
   "outputs": [
    {
     "data": {
      "text/html": [
       "<div>\n",
       "<style scoped>\n",
       "    .dataframe tbody tr th:only-of-type {\n",
       "        vertical-align: middle;\n",
       "    }\n",
       "\n",
       "    .dataframe tbody tr th {\n",
       "        vertical-align: top;\n",
       "    }\n",
       "\n",
       "    .dataframe thead th {\n",
       "        text-align: right;\n",
       "    }\n",
       "</style>\n",
       "<table border=\"1\" class=\"dataframe\">\n",
       "  <thead>\n",
       "    <tr style=\"text-align: right;\">\n",
       "      <th></th>\n",
       "      <th>Group</th>\n",
       "      <th>Customer_Segment</th>\n",
       "      <th>Sales_Before</th>\n",
       "      <th>Sales_After</th>\n",
       "      <th>Customer_Satisfaction_Before</th>\n",
       "      <th>Customer_Satisfaction_After</th>\n",
       "      <th>Purchase_Made</th>\n",
       "    </tr>\n",
       "  </thead>\n",
       "  <tbody>\n",
       "    <tr>\n",
       "      <th>0</th>\n",
       "      <td>Control</td>\n",
       "      <td>High Value</td>\n",
       "      <td>240.548359</td>\n",
       "      <td>300.007567</td>\n",
       "      <td>74.684767</td>\n",
       "      <td>74.093658</td>\n",
       "      <td>No</td>\n",
       "    </tr>\n",
       "    <tr>\n",
       "      <th>1</th>\n",
       "      <td>Treatment</td>\n",
       "      <td>High Value</td>\n",
       "      <td>246.862114</td>\n",
       "      <td>381.337555</td>\n",
       "      <td>100.000000</td>\n",
       "      <td>100.000000</td>\n",
       "      <td>Yes</td>\n",
       "    </tr>\n",
       "    <tr>\n",
       "      <th>2</th>\n",
       "      <td>Control</td>\n",
       "      <td>High Value</td>\n",
       "      <td>156.978084</td>\n",
       "      <td>179.330464</td>\n",
       "      <td>98.780735</td>\n",
       "      <td>100.000000</td>\n",
       "      <td>No</td>\n",
       "    </tr>\n",
       "    <tr>\n",
       "      <th>3</th>\n",
       "      <td>Control</td>\n",
       "      <td>Medium Value</td>\n",
       "      <td>192.126708</td>\n",
       "      <td>229.278031</td>\n",
       "      <td>49.333766</td>\n",
       "      <td>39.811841</td>\n",
       "      <td>Yes</td>\n",
       "    </tr>\n",
       "    <tr>\n",
       "      <th>4</th>\n",
       "      <td>Control</td>\n",
       "      <td>High Value</td>\n",
       "      <td>229.685622</td>\n",
       "      <td>270.167701</td>\n",
       "      <td>83.974852</td>\n",
       "      <td>87.738591</td>\n",
       "      <td>Yes</td>\n",
       "    </tr>\n",
       "  </tbody>\n",
       "</table>\n",
       "</div>"
      ],
      "text/plain": [
       "       Group Customer_Segment  Sales_Before  Sales_After  \\\n",
       "0    Control       High Value    240.548359   300.007567   \n",
       "1  Treatment       High Value    246.862114   381.337555   \n",
       "2    Control       High Value    156.978084   179.330464   \n",
       "3    Control     Medium Value    192.126708   229.278031   \n",
       "4    Control       High Value    229.685622   270.167701   \n",
       "\n",
       "   Customer_Satisfaction_Before  Customer_Satisfaction_After Purchase_Made  \n",
       "0                     74.684767                    74.093658            No  \n",
       "1                    100.000000                   100.000000           Yes  \n",
       "2                     98.780735                   100.000000            No  \n",
       "3                     49.333766                    39.811841           Yes  \n",
       "4                     83.974852                    87.738591           Yes  "
      ]
     },
     "execution_count": 103,
     "metadata": {},
     "output_type": "execute_result"
    }
   ],
   "source": [
    "data = pd.read_csv(r\"C:\\Users\\dell\\Downloads\\Sales_without_NaNs_v1.3.csv\")\n",
    "data.head()"
   ]
  },
  {
   "cell_type": "code",
   "execution_count": 14,
   "id": "c4000c2e-86cd-4046-bb58-6b7c5a8a68ef",
   "metadata": {},
   "outputs": [
    {
     "data": {
      "text/html": [
       "<div>\n",
       "<style scoped>\n",
       "    .dataframe tbody tr th:only-of-type {\n",
       "        vertical-align: middle;\n",
       "    }\n",
       "\n",
       "    .dataframe tbody tr th {\n",
       "        vertical-align: top;\n",
       "    }\n",
       "\n",
       "    .dataframe thead th {\n",
       "        text-align: right;\n",
       "    }\n",
       "</style>\n",
       "<table border=\"1\" class=\"dataframe\">\n",
       "  <thead>\n",
       "    <tr style=\"text-align: right;\">\n",
       "      <th></th>\n",
       "      <th>Sales_Before</th>\n",
       "      <th>Sales_After</th>\n",
       "      <th>Customer_Satisfaction_Before</th>\n",
       "      <th>Customer_Satisfaction_After</th>\n",
       "    </tr>\n",
       "  </thead>\n",
       "  <tbody>\n",
       "    <tr>\n",
       "      <th>count</th>\n",
       "      <td>10000.000000</td>\n",
       "      <td>10000.000000</td>\n",
       "      <td>10000.000000</td>\n",
       "      <td>10000.000000</td>\n",
       "    </tr>\n",
       "    <tr>\n",
       "      <th>mean</th>\n",
       "      <td>203.846220</td>\n",
       "      <td>280.378330</td>\n",
       "      <td>70.249026</td>\n",
       "      <td>73.921449</td>\n",
       "    </tr>\n",
       "    <tr>\n",
       "      <th>std</th>\n",
       "      <td>55.431215</td>\n",
       "      <td>85.463933</td>\n",
       "      <td>16.927639</td>\n",
       "      <td>18.185050</td>\n",
       "    </tr>\n",
       "    <tr>\n",
       "      <th>min</th>\n",
       "      <td>24.852966</td>\n",
       "      <td>32.414352</td>\n",
       "      <td>22.202441</td>\n",
       "      <td>18.224938</td>\n",
       "    </tr>\n",
       "    <tr>\n",
       "      <th>25%</th>\n",
       "      <td>166.610755</td>\n",
       "      <td>221.438134</td>\n",
       "      <td>56.348229</td>\n",
       "      <td>59.866027</td>\n",
       "    </tr>\n",
       "    <tr>\n",
       "      <th>50%</th>\n",
       "      <td>203.347924</td>\n",
       "      <td>273.599150</td>\n",
       "      <td>69.644307</td>\n",
       "      <td>73.708858</td>\n",
       "    </tr>\n",
       "    <tr>\n",
       "      <th>75%</th>\n",
       "      <td>239.220116</td>\n",
       "      <td>332.376500</td>\n",
       "      <td>83.318174</td>\n",
       "      <td>90.403099</td>\n",
       "    </tr>\n",
       "    <tr>\n",
       "      <th>max</th>\n",
       "      <td>545.422547</td>\n",
       "      <td>818.219997</td>\n",
       "      <td>100.000000</td>\n",
       "      <td>100.000000</td>\n",
       "    </tr>\n",
       "  </tbody>\n",
       "</table>\n",
       "</div>"
      ],
      "text/plain": [
       "       Sales_Before   Sales_After  Customer_Satisfaction_Before  \\\n",
       "count  10000.000000  10000.000000                  10000.000000   \n",
       "mean     203.846220    280.378330                     70.249026   \n",
       "std       55.431215     85.463933                     16.927639   \n",
       "min       24.852966     32.414352                     22.202441   \n",
       "25%      166.610755    221.438134                     56.348229   \n",
       "50%      203.347924    273.599150                     69.644307   \n",
       "75%      239.220116    332.376500                     83.318174   \n",
       "max      545.422547    818.219997                    100.000000   \n",
       "\n",
       "       Customer_Satisfaction_After  \n",
       "count                 10000.000000  \n",
       "mean                     73.921449  \n",
       "std                      18.185050  \n",
       "min                      18.224938  \n",
       "25%                      59.866027  \n",
       "50%                      73.708858  \n",
       "75%                      90.403099  \n",
       "max                     100.000000  "
      ]
     },
     "execution_count": 14,
     "metadata": {},
     "output_type": "execute_result"
    }
   ],
   "source": [
    "#let's take a look at the data's descriptive statistics\n",
    "data.describe()"
   ]
  },
  {
   "cell_type": "code",
   "execution_count": 15,
   "id": "0f0271df-1dda-425f-94e4-17c2565427fe",
   "metadata": {},
   "outputs": [],
   "source": [
    "#Both the mean of sales and the customer satisfaction seem to have increased after the intervention."
   ]
  },
  {
   "cell_type": "code",
   "execution_count": 59,
   "id": "23a0b294-187a-4231-8f78-2d8b5efb34c4",
   "metadata": {},
   "outputs": [
    {
     "data": {
      "image/png": "[encoded data removed]",
      "text/plain": [
       "<Figure size 800x600 with 2 Axes>"
      ]
     },
     "metadata": {},
     "output_type": "display_data"
    }
   ],
   "source": [
    "#the differnce between the mean sales of te controled group vs the treatment after and before the intervention.\n",
    "data.groupby('Group')\n",
    "fig, ax = plt.subplots(1, 2, figsize=(8,6), sharey=True);\n",
    "data.groupby('Group')['Sales_Before'].mean().plot(kind='bar', ax=ax[0]);\n",
    "data.groupby('Group')['Sales_After'].mean().plot(kind='bar', ax=ax[1]);\n",
    "plt.legend=False\n",
    "ax[0].set_title('Sales_Before');\n",
    "ax[1].set_title('Sales_After');\n"
   ]
  },
  {
   "cell_type": "code",
   "execution_count": 17,
   "id": "2b3f87e5-1f2d-4ee4-b46d-5e9f71704f3a",
   "metadata": {},
   "outputs": [],
   "source": [
    "#we see that the mean number of sales increased for both groups after the intervention.\n",
    "#But the intervention had a higher effect on the treatment group as we can see that their sales had increased more to almost the double."
   ]
  },
  {
   "cell_type": "code",
   "execution_count": 58,
   "id": "fe99256d-f727-4d5e-b6b6-8ccd4dae6a94",
   "metadata": {},
   "outputs": [
    {
     "data": {
      "image/png": "[encoded data removed]",
      "text/plain": [
       "<Figure size 800x600 with 2 Axes>"
      ]
     },
     "metadata": {},
     "output_type": "display_data"
    }
   ],
   "source": [
    "#now we'll do te same thing for customer satisfaction.\n",
    "fig, ax = plt.subplots(1,2, figsize=(8,6), sharey=True);\n",
    "data.groupby('Group')['Customer_Satisfaction_Before'].mean().plot(kind='bar', ax=ax[0]);\n",
    "data.groupby('Group')['Customer_Satisfaction_After'].mean().plot(kind='bar', ax=ax[1]);\n",
    "ax[0].set_title('The customer satisfaction Before');\n",
    "ax[1].set_title('The customer satisfaction After');\n"
   ]
  },
  {
   "cell_type": "code",
   "execution_count": 19,
   "id": "538af8d4-d552-4e5e-aa09-0807a3777cd6",
   "metadata": {},
   "outputs": [],
   "source": [
    "#we can see that the customer satisfaction increased after the intervention for both groups \n",
    "#but there dosn't seem to be any difference in the size of te effect between the groups."
   ]
  },
  {
   "cell_type": "code",
   "execution_count": 52,
   "id": "36d47cc9-2a47-49c8-a01d-8ce6677278b2",
   "metadata": {},
   "outputs": [
    {
     "data": {
      "image/png": "[encoded data removed]",
      "text/plain": [
       "<Figure size 800x600 with 1 Axes>"
      ]
     },
     "metadata": {},
     "output_type": "display_data"
    }
   ],
   "source": [
    "#comparing the difference in purchases made between the two groups.\n",
    "df = data.copy()\n",
    "yes_c = df[(df.Group=='Control') & (df['Purchase_Made'] == 'Yes')]['Purchase_Made'].count()\n",
    "yes_t = df[(df.Group=='Treatment') & (df['Purchase_Made'] == 'Yes')]['Purchase_Made'].count()\n",
    "plt.figure(figsize=(8,6));\n",
    "plt.bar(df.Group.unique(), [yes_c, yes_t]);\n",
    "plt.title('The number of Purchases made for each group');"
   ]
  },
  {
   "cell_type": "code",
   "execution_count": 50,
   "id": "577229d2-e877-44ca-a127-ef0221f4a513",
   "metadata": {},
   "outputs": [],
   "source": [
    "#We can that the difference between the two groups is very small 6 purchases \n",
    "#Wich means that the intervention didn't have any any role in bringing new purchaces."
   ]
  },
  {
   "cell_type": "code",
   "execution_count": 94,
   "id": "4c353b40-29da-4b25-9d02-59925dace031",
   "metadata": {},
   "outputs": [],
   "source": []
  },
  {
   "cell_type": "code",
   "execution_count": 101,
   "id": "8f3d14f2-2153-4adf-802d-af8a7109dd4c",
   "metadata": {},
   "outputs": [
    {
     "data": {
      "image/png": "[encoded data removed]",
      "text/plain": [
       "<Figure size 800x1000 with 1 Axes>"
      ]
     },
     "metadata": {},
     "output_type": "display_data"
    }
   ],
   "source": [
    "\n",
    "high = df[(df['Purchase_Made']=='Yes') & (df['Customer_Segment']=='High Value')]['Customer_Segment'].count()\n",
    "medium = df[(df['Purchase_Made']=='Yes') & (df['Customer_Segment']=='Medium Value')]['Customer_Segment'].count()\n",
    "low = df[(df['Purchase_Made']=='Yes') & (df['Customer_Segment']=='Low Value')]['Customer_Segment'].count()\n",
    "plt.figure(figsize=(8,10));\n",
    "plt.bar(df.Customer_Segment.unique(), [high, medium, low]);\n",
    "plt.title('The number of Purchases in each customer Segment');"
   ]
  },
  {
   "cell_type": "code",
   "execution_count": 100,
   "id": "31286f40-3a81-49dd-97f6-2ed8e0bada49",
   "metadata": {},
   "outputs": [],
   "source": [
    "#we can see that there is no difference between the segments. "
   ]
  },
  {
   "cell_type": "code",
   "execution_count": 118,
   "id": "ea76adc7-3b9b-49ee-8ec3-81fe3e1c9619",
   "metadata": {},
   "outputs": [
    {
     "data": {
      "text/html": [
       "<div>\n",
       "<style scoped>\n",
       "    .dataframe tbody tr th:only-of-type {\n",
       "        vertical-align: middle;\n",
       "    }\n",
       "\n",
       "    .dataframe tbody tr th {\n",
       "        vertical-align: top;\n",
       "    }\n",
       "\n",
       "    .dataframe thead th {\n",
       "        text-align: right;\n",
       "    }\n",
       "</style>\n",
       "<table border=\"1\" class=\"dataframe\">\n",
       "  <thead>\n",
       "    <tr style=\"text-align: right;\">\n",
       "      <th></th>\n",
       "      <th>Group</th>\n",
       "      <th>Customer_Segment</th>\n",
       "      <th>Sales_Before</th>\n",
       "      <th>Sales_After</th>\n",
       "      <th>Customer_Satisfaction_Before</th>\n",
       "      <th>Customer_Satisfaction_After</th>\n",
       "      <th>Purchase_Made</th>\n",
       "    </tr>\n",
       "  </thead>\n",
       "  <tbody>\n",
       "    <tr>\n",
       "      <th>0</th>\n",
       "      <td>0</td>\n",
       "      <td>0</td>\n",
       "      <td>240.548359</td>\n",
       "      <td>300.007567</td>\n",
       "      <td>74.684767</td>\n",
       "      <td>74.093658</td>\n",
       "      <td>0</td>\n",
       "    </tr>\n",
       "    <tr>\n",
       "      <th>1</th>\n",
       "      <td>1</td>\n",
       "      <td>0</td>\n",
       "      <td>246.862114</td>\n",
       "      <td>381.337555</td>\n",
       "      <td>100.000000</td>\n",
       "      <td>100.000000</td>\n",
       "      <td>1</td>\n",
       "    </tr>\n",
       "    <tr>\n",
       "      <th>2</th>\n",
       "      <td>0</td>\n",
       "      <td>0</td>\n",
       "      <td>156.978084</td>\n",
       "      <td>179.330464</td>\n",
       "      <td>98.780735</td>\n",
       "      <td>100.000000</td>\n",
       "      <td>0</td>\n",
       "    </tr>\n",
       "    <tr>\n",
       "      <th>3</th>\n",
       "      <td>0</td>\n",
       "      <td>2</td>\n",
       "      <td>192.126708</td>\n",
       "      <td>229.278031</td>\n",
       "      <td>49.333766</td>\n",
       "      <td>39.811841</td>\n",
       "      <td>1</td>\n",
       "    </tr>\n",
       "    <tr>\n",
       "      <th>4</th>\n",
       "      <td>0</td>\n",
       "      <td>0</td>\n",
       "      <td>229.685622</td>\n",
       "      <td>270.167701</td>\n",
       "      <td>83.974852</td>\n",
       "      <td>87.738591</td>\n",
       "      <td>1</td>\n",
       "    </tr>\n",
       "  </tbody>\n",
       "</table>\n",
       "</div>"
      ],
      "text/plain": [
       "   Group  Customer_Segment  Sales_Before  Sales_After  \\\n",
       "0      0                 0    240.548359   300.007567   \n",
       "1      1                 0    246.862114   381.337555   \n",
       "2      0                 0    156.978084   179.330464   \n",
       "3      0                 2    192.126708   229.278031   \n",
       "4      0                 0    229.685622   270.167701   \n",
       "\n",
       "   Customer_Satisfaction_Before  Customer_Satisfaction_After  Purchase_Made  \n",
       "0                     74.684767                    74.093658              0  \n",
       "1                    100.000000                   100.000000              1  \n",
       "2                     98.780735                   100.000000              0  \n",
       "3                     49.333766                    39.811841              1  \n",
       "4                     83.974852                    87.738591              1  "
      ]
     },
     "execution_count": 118,
     "metadata": {},
     "output_type": "execute_result"
    }
   ],
   "source": [
    "#Transforming the object type data to codes to use regression on them.\n",
    "df1 = df.copy()\n",
    "#columns = ['Group', 'Customer_Segment', 'Purchase_Made']\n",
    "for col in df1.columns:\n",
    "    if df1[col].dtype == 'object':\n",
    "        df1[col] = df1[col].astype('category')\n",
    "        df1[col] = df1[col].cat.codes\n",
    "\n",
    "df1.head()"
   ]
  },
  {
   "cell_type": "code",
   "execution_count": 162,
   "id": "e053767e-fd12-4663-9e6e-dbe0a9185130",
   "metadata": {},
   "outputs": [],
   "source": [
    "#using machin lerning models to predict if there will be a sail or not "
   ]
  },
  {
   "cell_type": "code",
   "execution_count": 163,
   "id": "3eea24b0-426a-43cd-bc1c-627282fff9a9",
   "metadata": {},
   "outputs": [],
   "source": [
    "#we first split the data into training and test data. and then we scale it using minmax scaler.\n",
    "x = df1[['Group', 'Customer_Segment', 'Sales_After', 'Customer_Satisfaction_After']]\n",
    "y = df1['Purchase_Made']\n",
    "\n",
    "x_train, x_test, y_train, y_test = train_test_split(x, y, random_state = 0)\n",
    "scaler = MinMaxScaler()\n",
    "x_tr_s = scaler.fit_transform(x_train)\n",
    "x_ts_s = scaler.fit_transform(x_test)"
   ]
  },
  {
   "cell_type": "code",
   "execution_count": 170,
   "id": "04a20f48-23ab-46cb-9931-9f6ae940524f",
   "metadata": {},
   "outputs": [
    {
     "name": "stdout",
     "output_type": "stream",
     "text": [
      "the training score: 0.5090666666666667, The test score: 0.4948\n"
     ]
    }
   ],
   "source": [
    "#we'll first use a Logistic regression model\n",
    "lreg = LogisticRegression(C=100).fit(x_tr_s, y_train)\n",
    "print(f'the training score: {lreg.score(x_tr_s, y_train)}, The test score: {lreg.score(x_ts_s, y_test)}')"
   ]
  },
  {
   "cell_type": "code",
   "execution_count": 165,
   "id": "16d41ad4-253c-43b8-9d2d-c7127001d3cf",
   "metadata": {},
   "outputs": [],
   "source": [
    "#we can see that both the train and test scores are low wich means this is a bad model."
   ]
  },
  {
   "cell_type": "code",
   "execution_count": 166,
   "id": "de2edb39-b4c6-48ae-8130-d07574bfeca1",
   "metadata": {},
   "outputs": [
    {
     "name": "stdout",
     "output_type": "stream",
     "text": [
      "the training score: 0.5096, The test score: 0.5016\n"
     ]
    }
   ],
   "source": [
    "#now we'll use an SVC model with a linear kernel. \n",
    "svc = SVC(kernel = 'linear', C=100).fit(x_tr_s, y_train)\n",
    "print(f'the training score: {svc.score(x_tr_s, y_train)}, The test score: {svc.score(x_ts_s, y_test)}')"
   ]
  },
  {
   "cell_type": "code",
   "execution_count": 167,
   "id": "ee65392b-8660-47eb-b7e4-186e2b1561ae",
   "metadata": {},
   "outputs": [],
   "source": [
    "#we can see that he result are the same as the logistic regression model."
   ]
  },
  {
   "cell_type": "code",
   "execution_count": 169,
   "id": "ce1f9229-7541-44cf-ac1e-8c51257c8792",
   "metadata": {},
   "outputs": [
    {
     "name": "stdout",
     "output_type": "stream",
     "text": [
      "the training score: 0.6181333333333333,  The test score: 0.5072\n"
     ]
    }
   ],
   "source": [
    "#now we'll use a nearest neighbor classifier.\n",
    "knn = KNeighborsClassifier(n_neighbors= 10).fit(x_tr_s, y_train)\n",
    "print(f'the training score: {knn.score(x_tr_s, y_train)},  The test score: {knn.score(x_ts_s, y_test)}')"
   ]
  },
  {
   "cell_type": "code",
   "execution_count": 171,
   "id": "017afc86-577b-4d70-9f63-9584b827cb5d",
   "metadata": {},
   "outputs": [],
   "source": [
    "#we got simillare test score on all the models we used wich indicates that\n",
    "#the data is very simillar and that the features we have don't contribute to the purchasing decision."
   ]
  }
 ],
 "metadata": {
  "kernelspec": {
   "display_name": "Python 3 (ipykernel)",
   "language": "python",
   "name": "python3"
  },
  "language_info": {
   "codemirror_mode": {
    "name": "ipython",
    "version": 3
   },
   "file_extension": ".py",
   "mimetype": "text/x-python",
   "name": "python",
   "nbconvert_exporter": "python",
   "pygments_lexer": "ipython3",
   "version": "3.11.9"
  }
 },
 "nbformat": 4,
 "nbformat_minor": 5
}
