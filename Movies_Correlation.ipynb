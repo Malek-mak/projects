{
 "cells": [
  {
   "cell_type": "code",
   "execution_count": null,
   "id": "cc6d07e1-461c-4177-88a2-6e9cbdbfe97b",
   "metadata": {},
   "outputs": [],
   "source": [
    "import matplotlib.pyplot as plt\n",
    "import pandas as pd\n",
    "import numpy as np\n",
    "import seaborn as sns\n",
    "sns.set()"
   ]
  },
  {
   "cell_type": "code",
   "execution_count": null,
   "id": "a02f08a4-29b2-4e29-98b5-2999dcd41f5b",
   "metadata": {},
   "outputs": [],
   "source": [
    "data = pd.read_csv(r\"C:\\Users\\dell\\Downloads\\movies.csv\\movies.csv\")"
   ]
  },
  {
   "cell_type": "code",
   "execution_count": null,
   "id": "ddee3c27-1386-4bda-a39f-0eb9e9f57d37",
   "metadata": {},
   "outputs": [],
   "source": [
    "data.head()"
   ]
  },
  {
   "cell_type": "code",
   "execution_count": null,
   "id": "7a897c8b-1364-462f-b86d-7ec86da654a0",
   "metadata": {},
   "outputs": [],
   "source": []
  },
  {
   "cell_type": "code",
   "execution_count": null,
   "id": "485d9e9b-b508-4166-ad9e-aaddcb98909c",
   "metadata": {},
   "outputs": [],
   "source": [
    "#cheking for missing data in each column\n",
    "\n",
    "for col in data.columns:\n",
    "    prc_null = (np.mean(data[col].isnull()))\n",
    "    print(f' {col} : {prc_null}')"
   ]
  },
  {
   "cell_type": "code",
   "execution_count": null,
   "id": "e3b61c0c-75b5-4229-91ca-15ef41040ab2",
   "metadata": {},
   "outputs": [],
   "source": [
    "#droping the rows with null values\n",
    "data.dropna(inplace=True)"
   ]
  },
  {
   "cell_type": "code",
   "execution_count": null,
   "id": "cc2481e7-19b6-4a8d-8b0a-bb8919ce79f4",
   "metadata": {},
   "outputs": [],
   "source": [
    "#cheking the data types of each column\n",
    "data.dtypes"
   ]
  },
  {
   "cell_type": "code",
   "execution_count": null,
   "id": "63e796ae-b7a0-4bfd-a99b-ec1b1cb90bf9",
   "metadata": {},
   "outputs": [],
   "source": [
    "#changing the data types of the float column into integers\n",
    "\n",
    "data.budget = data.budget.astype('int')\n",
    "data.gross = data.gross.astype('int')\n",
    "data.runtime = data.runtime.astype('int')"
   ]
  },
  {
   "cell_type": "code",
   "execution_count": null,
   "id": "5bcaf13f-769e-4e26-9d56-69f5e2263dcb",
   "metadata": {},
   "outputs": [],
   "source": [
    "#create correct year and country columns\n",
    "data['nYear'] = ''\n",
    "\n",
    "n=0\n",
    "for i in data.released.astype('str').str.split('('):\n",
    "    data['nYear'].iloc[n] = i[0]\n",
    "    n = n+1\n",
    "data['year'] = data.nYear.str[-5::]\n",
    "data['year'] = data['year'].astype('int64')\n",
    "data.drop(['nYear'], inplace=True, axis=1)"
   ]
  },
  {
   "cell_type": "code",
   "execution_count": null,
   "id": "a2391f1d-8a17-4b11-a3aa-f88e68e152f8",
   "metadata": {},
   "outputs": [],
   "source": [
    "#create correct year and country columns\n",
    "data['ncountry'] = ''\n",
    "\n",
    "n=0\n",
    "for i in data.released.astype('str').str.split('('):\n",
    "    data['ncountry'].iloc[n] = i[1]\n",
    "    n = n+1\n",
    "\n",
    "data['country'] = data.ncountry.str[0:-1]\n",
    "data.drop(['ncountry'], inplace=True, axis=1)"
   ]
  },
  {
   "cell_type": "code",
   "execution_count": null,
   "id": "4bda59d7-616e-4dd9-a6e0-acad0cc48892",
   "metadata": {},
   "outputs": [],
   "source": [
    "#cheking the new data\n",
    "data.country.unique()\n",
    "data.year.unique()"
   ]
  },
  {
   "cell_type": "code",
   "execution_count": null,
   "id": "5af29853-368d-483f-9e07-7b8c534850d9",
   "metadata": {},
   "outputs": [],
   "source": [
    "#sorting the dataframe by gross revunue\n",
    "data.sort_values(by='gross', ascending=False, inplace=False).head()\n"
   ]
  },
  {
   "cell_type": "code",
   "execution_count": null,
   "id": "67799147-af9a-457c-b1b2-0503ef0f3d65",
   "metadata": {},
   "outputs": [],
   "source": [
    "#removing the negative sine from some gross values\n",
    "data.gross = data.gross.astype('str').str.replace('-', '')\n",
    "data.gross = data.gross.astype('int64')"
   ]
  },
  {
   "cell_type": "code",
   "execution_count": null,
   "id": "073dfb52-1fe2-466b-8956-2d03c2ef2883",
   "metadata": {},
   "outputs": [],
   "source": [
    "data.sort_values(by='gross', ascending=False, inplace=False).head()\n"
   ]
  },
  {
   "cell_type": "code",
   "execution_count": null,
   "id": "63e84b56-1b64-4529-8e15-e6f22de1b9f4",
   "metadata": {},
   "outputs": [],
   "source": [
    "#finding reasons for high gross"
   ]
  },
  {
   "cell_type": "code",
   "execution_count": null,
   "id": "2a8fcdaa-5fb6-45f1-8ccb-a0898a12c1e4",
   "metadata": {},
   "outputs": [],
   "source": [
    "#scattering budget and gross\n",
    "\n",
    "plt.figure(figsize=(10,6))\n",
    "plt.scatter(data.budget, data.gross);\n",
    "plt.xlabel('Budget');\n",
    "plt.ylabel('Revenue');\n",
    "plt.title('Relation between budget and revenue');"
   ]
  },
  {
   "cell_type": "code",
   "execution_count": null,
   "id": "9f4004e8-5337-44ca-880a-ab888eb51f44",
   "metadata": {},
   "outputs": [],
   "source": [
    "#looking at correlation between the budget, revunue and the runtime\n",
    "plt.figure(figsize=(10,8));\n",
    "sns.scatterplot(data=data, x='budget', y='gross', hue='runtime');"
   ]
  },
  {
   "cell_type": "code",
   "execution_count": null,
   "id": "85f4463c-db9c-4dcb-a896-fe7a16dfd543",
   "metadata": {},
   "outputs": [],
   "source": [
    "'''We can see that there is a positive relation between the budget size and the gross reveunues of the movies. And higher run time correlates with higher revunue.'''"
   ]
  },
  {
   "cell_type": "code",
   "execution_count": null,
   "id": "fdbd8a35-3bd2-4a92-a002-db874bc09196",
   "metadata": {},
   "outputs": [],
   "source": [
    "#to see the correlation level between each variable\n",
    "\n",
    "data[['gross', 'budget', 'runtime']].corr()"
   ]
  },
  {
   "cell_type": "code",
   "execution_count": null,
   "id": "489b9b62-ae49-4ac7-beb7-75c6f0d0617e",
   "metadata": {},
   "outputs": [],
   "source": [
    "'''We can see that the  correlation between the budget and the revenues is 0.74 wich is a high correlation. And runtime's correlations with the two variables are not that high as we thought from the graph as each one of them is below 0.4 wich is pretty low.'''"
   ]
  },
  {
   "cell_type": "code",
   "execution_count": null,
   "id": "9dcf9109-fcad-4881-a4e6-5a8bad24a04a",
   "metadata": {},
   "outputs": [],
   "source": [
    "#now we will look for the correlation between non numeric variables like company."
   ]
  },
  {
   "cell_type": "code",
   "execution_count": null,
   "id": "03c107d8-a202-445e-8cf6-564968ee7283",
   "metadata": {},
   "outputs": [],
   "source": [
    "'''we first give the non numeric variables a numeric value for each category,\n",
    "starting with the astype function that will transform them from object type into category type \n",
    "and then using the cat.codes function that assing random codes to categories \n",
    "so that we can calculate the corr between each category.'''\n",
    "df = data.copy()\n",
    "\n",
    "for col in df.columns:\n",
    "    if df[col].dtype == 'object':\n",
    "        df[col] = df[col].astype('category')\n",
    "        df[col] = df[col].cat.codes\n",
    "    "
   ]
  },
  {
   "cell_type": "code",
   "execution_count": null,
   "id": "2d59d92a-130f-4f89-8ca7-ec6dcfa503f7",
   "metadata": {},
   "outputs": [],
   "source": [
    "df"
   ]
  },
  {
   "cell_type": "code",
   "execution_count": null,
   "id": "0538c5a7-c862-4eec-be36-d825ab3208e3",
   "metadata": {},
   "outputs": [],
   "source": [
    "corr = df.corr()"
   ]
  },
  {
   "cell_type": "code",
   "execution_count": null,
   "id": "d209f8d0-132c-49d8-b9c5-995e11915862",
   "metadata": {},
   "outputs": [],
   "source": [
    "corr[corr>0.5]"
   ]
  },
  {
   "cell_type": "code",
   "execution_count": null,
   "id": "f84031c9-10f5-4f9c-9d04-eaaaee1b5e46",
   "metadata": {},
   "outputs": [],
   "source": [
    "'''we can se that the only correlations that are greater than 0.5 are between the gross and the budget \n",
    "and also there is a high correlation between the gross and the votes at 0.61.'''"
   ]
  },
  {
   "cell_type": "code",
   "execution_count": null,
   "id": "f7227d1a-588f-4f0d-a1c8-76718a567150",
   "metadata": {},
   "outputs": [],
   "source": []
  }
 ],
 "metadata": {
  "kernelspec": {
   "display_name": "Python 3 (ipykernel)",
   "language": "python",
   "name": "python3"
  },
  "language_info": {
   "codemirror_mode": {
    "name": "ipython",
    "version": 3
   },
   "file_extension": ".py",
   "mimetype": "text/x-python",
   "name": "python",
   "nbconvert_exporter": "python",
   "pygments_lexer": "ipython3",
   "version": "3.11.9"
  }
 },
 "nbformat": 4,
 "nbformat_minor": 5
}
